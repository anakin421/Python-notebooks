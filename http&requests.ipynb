{
 "cells": [
  {
   "cell_type": "markdown",
   "metadata": {},
   "source": [
    "# What is HTTP? (HyperText Transfer Protocol)"
   ]
  },
  {
   "cell_type": "markdown",
   "metadata": {},
   "source": [
    "- HTTP is the protocol used to transfer data over the web. \n",
    "- It is part of the Internet protocol suite and defines commands and services used for transmitting webpage data.\n",
    "- HTTP uses a server-client model. A client, for example, may be a home computer, laptop, or mobile device. The HTTP server is typically a web host running web server software, such as Apache or IIS.\n",
    "- When you access a website, your browser sends a request to the corresponding web server and it responds with an HTTP status code. If the URL is valid and the connection is granted, the server will send your browser the webpage and related files."
   ]
  },
  {
   "cell_type": "markdown",
   "metadata": {},
   "source": [
    "# HTTP Status Code"
   ]
  },
  {
   "cell_type": "markdown",
   "metadata": {},
   "source": [
    "- The Status-Code element in a server response, is a 3-digit integer where the first digit of the Status-Code defines the class of response and the last two digits do not have any categorization role."
   ]
  },
  {
   "cell_type": "markdown",
   "metadata": {},
   "source": [
    "<img src = \"statuscode.png\">"
   ]
  },
  {
   "cell_type": "markdown",
   "metadata": {},
   "source": [
    "- __100’s__ — An informational code that communicates the request is continuing. This is what’s going on when the computer is still “thinking.”\n",
    "- __200’s__ — A success code that communicates the browser request was processed correctly.\n",
    "- __300’s__ — A redirect code stating that the information or resource has been substituted with another resource, either temporarily or permanently.\n",
    "- __400’s__ — A client error code that communicates there was a problem with the request. This happens when the site or page can’t be reached.\n",
    "- __500’s__ — A server error code indicating the request was accepted, but an error on the server prevented it from being fulfilled."
   ]
  },
  {
   "cell_type": "markdown",
   "metadata": {},
   "source": [
    "__Popular HTTP Status Codes__\n",
    "- __200__ – Status code 200 represent the successful HTTP request.\n",
    "- __404__ – Web Page not found.\n",
    "- __500__ – Internal Server Error\n",
    "- __503__ – Server is temporarily not available."
   ]
  },
  {
   "cell_type": "markdown",
   "metadata": {},
   "source": [
    "# HTTP Methods: "
   ]
  },
  {
   "cell_type": "markdown",
   "metadata": {},
   "source": [
    "- The most-commonly used HTTP methods are __POST, GET, PUT__ AND __DELETE.__\n",
    "- These correspond to create, read, update and delete operations respectively.\n",
    "- There are number of other methods too like __PATCH,HEAD__. But they're utilized less frequently."
   ]
  },
  {
   "cell_type": "markdown",
   "metadata": {},
   "source": [
    "### GET :"
   ]
  },
  {
   "cell_type": "markdown",
   "metadata": {},
   "source": [
    "- GET method is used to retrieve information from the given server using a given URI\n",
    "- The HTTP GET method is used to __read (or retrieve)__ a representation of a resource.\n",
    "- GET requests are used only to read data, it can not change it.\n",
    "- GET is __idempotent__, because calling it once has the same effect as calling it 10 times.\n",
    "    \n",
    "\n",
    " - __idempotent ?__\n",
    "   - A request method is considered __idempotent__ if the intended effect on the server of multiple identical requests with that method is the same as the effect for a single such request."
   ]
  },
  {
   "cell_type": "markdown",
   "metadata": {},
   "source": [
    "### POST :"
   ]
  },
  {
   "cell_type": "markdown",
   "metadata": {},
   "source": [
    "- the POST request method requests that a web server accepts the data enclosed in the body of the request message, most likely for storing it. It is often used when uploading a file or when submitting a completed web form.\n",
    "- The POST method is most-often utilized to __create__ new resources.\n",
    "- POST is neither safe nor __idempotent__. Making two identical POST requests will result in two resources containing the same information."
   ]
  },
  {
   "cell_type": "markdown",
   "metadata": {},
   "source": [
    "### PUT :"
   ]
  },
  {
   "cell_type": "markdown",
   "metadata": {},
   "source": [
    "- PUT is most-often utilized for **update** capabilities, PUT-ing to a known resource URI with the request body containing the newly-updated representation of the original resource. basically PUT is used for updation of data\n",
    "- PUT is __idempotent__. if you create or update a resource using PUT and then make that same call again, the resource is still there and still has the same state as it did with the first call."
   ]
  },
  {
   "cell_type": "markdown",
   "metadata": {},
   "source": [
    "### DELETE :"
   ]
  },
  {
   "cell_type": "markdown",
   "metadata": {},
   "source": [
    "- The DELETE method deletes the specified resource.\n",
    "- DELETE operations are __idempotent__. If you DELETE a resource, It's removed. Repeatedly calling DELETE on that resource ends up the same because resource is gone.\n",
    "- There is a caveat about DELETE idempotence, however. Calling DELETE on a resource a second time will often return a 404 (NOT FOUND) since it was already removed and therefore is no longer findable. This, by some opinions, makes DELETE operations no longer idempotent, however, the end-state of the resource is the same. Returning a 404 is acceptable and communicates accurately the status of the call.\n",
    "\n",
    "\n",
    "- __Resource__ : \n",
    "    - https://www.restapitutorial.com/lessons/httpmethods.html\n",
    "    - https://www.geeksforgeeks.org/http-request-methods-python-requests/"
   ]
  },
  {
   "cell_type": "markdown",
   "metadata": {},
   "source": [
    "# Requests library"
   ]
  },
  {
   "cell_type": "markdown",
   "metadata": {},
   "source": [
    "- Requests is an elegant and simple HTTP library for Python, built for human beings.\n",
    "- Python requests provides inbuilt functionalities for managing both the request and response."
   ]
  },
  {
   "cell_type": "markdown",
   "metadata": {},
   "source": [
    "### Installing requests : "
   ]
  },
  {
   "cell_type": "markdown",
   "metadata": {},
   "source": [
    "- to install requests in your system run this command in terminal\n",
    "- __pip install requests__"
   ]
  },
  {
   "cell_type": "markdown",
   "metadata": {},
   "source": [
    "### After installation : Make request"
   ]
  },
  {
   "cell_type": "markdown",
   "metadata": {},
   "source": [
    "- So after the installation of the requests module you can use this module while importing it.\n",
    "- for importing the requests module write,\n",
    "- __import requests__\n",
    "\n",
    "\n",
    "- Making a request with Requests is very simple. let's start with requests"
   ]
  },
  {
   "cell_type": "code",
   "execution_count": 5,
   "metadata": {},
   "outputs": [],
   "source": [
    "import requests"
   ]
  },
  {
   "cell_type": "markdown",
   "metadata": {},
   "source": [
    "### GET requests :"
   ]
  },
  {
   "cell_type": "markdown",
   "metadata": {},
   "source": [
    "- __Syntax__ : requests.get(url, params={key: value}, args)\n",
    "- here below, we have a Response object called res. We can get all the information we need from this object.\n",
    "\n",
    "\n",
    "- __more info__ : https://www.w3schools.com/python/ref_requests_get.asp"
   ]
  },
  {
   "cell_type": "code",
   "execution_count": 6,
   "metadata": {},
   "outputs": [],
   "source": [
    "res = requests.get(\"https://httpbin.org/get\")"
   ]
  },
  {
   "cell_type": "code",
   "execution_count": 10,
   "metadata": {},
   "outputs": [
    {
     "name": "stdout",
     "output_type": "stream",
     "text": [
      "Response code: 200\n",
      "res.url: https://httpbin.org/get\n",
      "res.encoding: None\n",
      "\n",
      "res.content: b'{\\n  \"args\": {}, \\n  \"headers\": {\\n    \"Accept\": \"*/*\", \\n    \"Accept-Encoding\": \"gzip, deflate\", \\n    \"Host\": \"httpbin.org\", \\n    \"User-Agent\": \"python-requests/2.22.0\", \\n    \"X-Amzn-Trace-Id\": \"Root=1-5e900e37-c0c2e906df198459eaa03e12\"\\n  }, \\n  \"origin\": \"103.86.19.135\", \\n  \"url\": \"https://httpbin.org/get\"\\n}\\n'\n",
      "\n",
      "res.text: {\n",
      "  \"args\": {}, \n",
      "  \"headers\": {\n",
      "    \"Accept\": \"*/*\", \n",
      "    \"Accept-Encoding\": \"gzip, deflate\", \n",
      "    \"Host\": \"httpbin.org\", \n",
      "    \"User-Agent\": \"python-requests/2.22.0\", \n",
      "    \"X-Amzn-Trace-Id\": \"Root=1-5e900e37-c0c2e906df198459eaa03e12\"\n",
      "  }, \n",
      "  \"origin\": \"103.86.19.135\", \n",
      "  \"url\": \"https://httpbin.org/get\"\n",
      "}\n",
      "\n",
      "\n",
      "res.headers: {'Date': 'Fri, 10 Apr 2020 06:12:07 GMT', 'Content-Type': 'application/json', 'Content-Length': '307', 'Connection': 'keep-alive', 'Server': 'gunicorn/19.9.0', 'Access-Control-Allow-Origin': '*', 'Access-Control-Allow-Credentials': 'true'}\n",
      "\n",
      "res.json(): {'args': {}, 'headers': {'Accept': '*/*', 'Accept-Encoding': 'gzip, deflate', 'Host': 'httpbin.org', 'User-Agent': 'python-requests/2.22.0', 'X-Amzn-Trace-Id': 'Root=1-5e900e37-c0c2e906df198459eaa03e12'}, 'origin': '103.86.19.135', 'url': 'https://httpbin.org/get'}\n",
      "\n",
      "res.cookies: <RequestsCookieJar[]>\n"
     ]
    }
   ],
   "source": [
    "print(f\"Response code: {res.status_code}\") #give the response code\n",
    "print(f\"res.url: {res.url}\")\n",
    "print(f\"res.encoding: {res.encoding}\")\n",
    "print(f\"\\nres.content: {res.content}\")\n",
    "print(f\"\\nres.text: {res.text}\")\n",
    "print(f\"\\nres.headers: {res.headers}\")\n",
    "print(f\"\\nres.json(): {res.json()}\")\n",
    "print(f\"\\nres.cookies: {res.cookies}\")"
   ]
  },
  {
   "cell_type": "markdown",
   "metadata": {},
   "source": [
    "### Python requests.Response Object"
   ]
  },
  {
   "cell_type": "markdown",
   "metadata": {},
   "source": [
    "- The requests.Response() Object contains the server's response to the HTTP request.\n",
    "- some important and widely used methods are : \n",
    "\n",
    "\n",
    "- __.status_code__ : Returns a number that indicates the status (200 is OK, 404 is Not Found)\n",
    "- __.url__ : Returns the URL of the response\n",
    "- __.text__ : Returns the content of the response, in unicode\n",
    "- __.ok__ : Returns True if status_code is less than 200, otherwise False\n",
    "- __.encoding__ : Returns the encoding used to decode r.text\n",
    "- __.headers__ : Returns a dictionary of response headers\n",
    "- __.cookies__ : Returns a CookieJar object with the cookies sent back from the server\n",
    "- __.content__ : Returns the content of the response, in bytes\n",
    "- __.text__ : Returns the content of the response, in unicode\n",
    "- __.json()__ : Returns a JSON object of the result (if the result was written in JSON format, if not it raises an error)\n",
    "- __.raise_for_status()__ : If an error occur, this method returns a HTTPError object\n",
    "\n",
    "\n",
    "- __Resource__ : https://www.w3schools.com/python/ref_requests_response.asp"
   ]
  },
  {
   "cell_type": "markdown",
   "metadata": {},
   "source": [
    "### Passing parameters in URLs"
   ]
  },
  {
   "cell_type": "markdown",
   "metadata": {},
   "source": [
    "- You often want to send some sort of data in the URL’s query string. If you were constructing the URL by hand, this data would be given as key/value pairs in the URL after a question mark, __e.g. httpbin.org/get?key=val.__\n",
    "- Requests allows you to provide these arguments as a dictionary of strings, using the __params__ keyword argument. As an example, if you wanted to pass key1=value1 and key2=value2 to __httpbin.org/get__ you would use the following code:"
   ]
  },
  {
   "cell_type": "code",
   "execution_count": 12,
   "metadata": {},
   "outputs": [
    {
     "name": "stdout",
     "output_type": "stream",
     "text": [
      "URL : https://httpbin.org/get?key1=value1&key2=value2\n"
     ]
    }
   ],
   "source": [
    "payload = {'key1': 'value1', 'key2': 'value2'}\n",
    "res = requests.get('https://httpbin.org/get', params=payload)\n",
    "\n",
    "print(f\"URL : {res.url}\")"
   ]
  },
  {
   "cell_type": "markdown",
   "metadata": {},
   "source": [
    "- __Note that any dictionary key whose value is None will not be added to the URL’s query string.__\n",
    "- You can also pass a list of items as a value:"
   ]
  },
  {
   "cell_type": "code",
   "execution_count": 14,
   "metadata": {},
   "outputs": [
    {
     "name": "stdout",
     "output_type": "stream",
     "text": [
      "URL : https://httpbin.org/get?key1=value1&key2=value2&key2=value3\n"
     ]
    }
   ],
   "source": [
    "payload = {'key1': 'value1', 'key2': ['value2', 'value3']}\n",
    "\n",
    "res = requests.get('https://httpbin.org/get', params=payload)\n",
    "\n",
    "print(f\"URL : {res.url}\")"
   ]
  },
  {
   "cell_type": "markdown",
   "metadata": {},
   "source": [
    "### POST  requests : "
   ]
  },
  {
   "cell_type": "markdown",
   "metadata": {},
   "source": [
    "- you want to send some form-encoded data — much like an HTML form. To do this, simply pass a dictionary to the __data__ argument. Your dictionary of data will automatically be form-encoded when the request is made:\n",
    "\n",
    "\n",
    "- __more info__ : https://www.w3schools.com/python/ref_requests_post.asp"
   ]
  },
  {
   "cell_type": "code",
   "execution_count": 17,
   "metadata": {},
   "outputs": [
    {
     "name": "stdout",
     "output_type": "stream",
     "text": [
      "{\n",
      "  \"args\": {}, \n",
      "  \"data\": \"\", \n",
      "  \"files\": {}, \n",
      "  \"form\": {\n",
      "    \"job\": \"Trainee\", \n",
      "    \"username\": \"Abhishek\"\n",
      "  }, \n",
      "  \"headers\": {\n",
      "    \"Accept\": \"*/*\", \n",
      "    \"Accept-Encoding\": \"gzip, deflate\", \n",
      "    \"Content-Length\": \"29\", \n",
      "    \"Content-Type\": \"application/x-www-form-urlencoded\", \n",
      "    \"Host\": \"httpbin.org\", \n",
      "    \"User-Agent\": \"python-requests/2.22.0\", \n",
      "    \"X-Amzn-Trace-Id\": \"Root=1-5e901691-873d1232b5a2cfd8e11dc86c\"\n",
      "  }, \n",
      "  \"json\": null, \n",
      "  \"origin\": \"103.86.19.135\", \n",
      "  \"url\": \"https://httpbin.org/post\"\n",
      "}\n",
      "\n"
     ]
    }
   ],
   "source": [
    "payload = {'username': 'Abhishek', 'job': 'Trainee'}\n",
    "\n",
    "res = requests.post(\"https://httpbin.org/post\", data=payload)\n",
    "print(res.text)"
   ]
  },
  {
   "cell_type": "markdown",
   "metadata": {},
   "source": [
    "### Cookies : "
   ]
  },
  {
   "cell_type": "markdown",
   "metadata": {},
   "source": [
    "- If a response contains some Cookies, you can quickly access them:"
   ]
  },
  {
   "cell_type": "code",
   "execution_count": 18,
   "metadata": {},
   "outputs": [
    {
     "name": "stdout",
     "output_type": "stream",
     "text": [
      "{\n",
      "  \"cookies\": {}\n",
      "}\n",
      "\n"
     ]
    }
   ],
   "source": [
    "res = requests.get(\"https://httpbin.org/cookies\")\n",
    "print(res.text)"
   ]
  },
  {
   "cell_type": "markdown",
   "metadata": {},
   "source": [
    "- To send your own cookies to the server, you can use the cookies parameter:"
   ]
  },
  {
   "cell_type": "code",
   "execution_count": 21,
   "metadata": {},
   "outputs": [
    {
     "name": "stdout",
     "output_type": "stream",
     "text": [
      "{\n",
      "  \"cookies\": {\n",
      "    \"cookies_are\": \"working\"\n",
      "  }\n",
      "}\n",
      "\n"
     ]
    }
   ],
   "source": [
    "cookies = {'cookies_are': 'working'}\n",
    "\n",
    "res = requests.get(\"https://httpbin.org/cookies\", cookies=cookies)\n",
    "\n",
    "print(res.text)"
   ]
  },
  {
   "cell_type": "markdown",
   "metadata": {},
   "source": [
    "###   Authentication : "
   ]
  },
  {
   "cell_type": "markdown",
   "metadata": {},
   "source": [
    "- Credentials are passed to the server by passing data through authorization header in a parameter called auth.\n",
    "- The request succeeds if the credentials provided in the auth parameter are valid.\n",
    "- If credentials are wrong, then the status code will be 401 (Unauthorized Error)."
   ]
  },
  {
   "cell_type": "code",
   "execution_count": 27,
   "metadata": {},
   "outputs": [
    {
     "name": "stdout",
     "output_type": "stream",
     "text": [
      "status code: 200\n",
      "res.text: {\n",
      "  \"authenticated\": true, \n",
      "  \"user\": \"abhishek\"\n",
      "}\n",
      "\n",
      "status code: 401\n",
      "res.text: \n"
     ]
    }
   ],
   "source": [
    "res = requests.get(\"https://httpbin.org/basic-auth/abhishek/6969\", auth=('abhishek','6969'))\n",
    "\n",
    "print(f\"status code: {res.status_code}\")\n",
    "print(f\"res.text: {res.text}\")\n",
    "\n",
    "res = requests.get(\"https://httpbin.org/basic-auth/abhishek/6969\", auth=('abhishek','1234'))\n",
    "print(f\"status code: {res.status_code}\")\n",
    "print(f\"res.text: {res.text}\")"
   ]
  },
  {
   "cell_type": "markdown",
   "metadata": {},
   "source": [
    "### Timeouts  :"
   ]
  },
  {
   "cell_type": "markdown",
   "metadata": {},
   "source": [
    "- When you make an inline request to an external service, your system will need to wait upon the response before moving on. If your application waits too long for that response, requests to your service could back up, your user experience could suffer, or your background jobs could hang.\n",
    "- You can tell Requests to stop waiting for a response after a given number of seconds with the __timeout__ parameter. Nearly all production code should use this parameter in nearly all requests."
   ]
  },
  {
   "cell_type": "code",
   "execution_count": 29,
   "metadata": {},
   "outputs": [
    {
     "name": "stdout",
     "output_type": "stream",
     "text": [
      "Timed Out\n"
     ]
    }
   ],
   "source": [
    "try:\n",
    "    res = requests.get(\"https://httpbin.org/delay/3\", timeout=2)\n",
    "except requests.exceptions.ReadTimeout:\n",
    "    print(\"Timed Out\")"
   ]
  },
  {
   "cell_type": "markdown",
   "metadata": {},
   "source": [
    "### Errors and Exceptions : "
   ]
  },
  {
   "cell_type": "markdown",
   "metadata": {},
   "source": [
    "- In the event of a network problem (e.g. DNS failure, refused connection, etc), Requests will raise a ConnectionError exception.\n",
    "- Response.raise_for_status() will raise an HTTPError if the HTTP request returned an unsuccessful status code.\n",
    "- If a request times out, a Timeout exception is raised.\n",
    "- If a request exceeds the configured number of maximum redirections, a TooManyRedirects exception is raised."
   ]
  },
  {
   "cell_type": "markdown",
   "metadata": {},
   "source": [
    "### Session Objects :"
   ]
  },
  {
   "cell_type": "markdown",
   "metadata": {},
   "source": [
    "- The Session object allows you to persist certain parameters across requests. It also persists cookies across all requests made from the Session instance, and will use urllib3’s connection pooling. So if you’re making __several requests__ to the same host, the underlying TCP connection will be reused, which can result in a significant performance increase\n",
    "- A Session object has all the methods of the main Requests API."
   ]
  },
  {
   "cell_type": "code",
   "execution_count": 30,
   "metadata": {},
   "outputs": [
    {
     "name": "stdout",
     "output_type": "stream",
     "text": [
      "{\n",
      "  \"cookies\": {\n",
      "    \"sessioncookie\": \"123456789\"\n",
      "  }\n",
      "}\n",
      "\n"
     ]
    }
   ],
   "source": [
    "s = requests.Session()\n",
    "\n",
    "s.get('https://httpbin.org/cookies/set/sessioncookie/123456789')\n",
    "r = s.get('https://httpbin.org/cookies')\n",
    "\n",
    "print(r.text)"
   ]
  },
  {
   "cell_type": "markdown",
   "metadata": {},
   "source": [
    "- Sessions can also be used to provide default data to the request methods. This is done by providing data to the properties on a Session object:"
   ]
  },
  {
   "cell_type": "code",
   "execution_count": 39,
   "metadata": {},
   "outputs": [
    {
     "name": "stdout",
     "output_type": "stream",
     "text": [
      "{\n",
      "  \"headers\": {\n",
      "    \"Accept\": \"*/*\", \n",
      "    \"Accept-Encoding\": \"gzip, deflate\", \n",
      "    \"Authorization\": \"Basic dXNlcjpwYXNz\", \n",
      "    \"Host\": \"httpbin.org\", \n",
      "    \"User-Agent\": \"python-requests/2.22.0\", \n",
      "    \"X-Amzn-Trace-Id\": \"Root=1-5e903018-9fb23470932c40000d5e8e28\", \n",
      "    \"X-Test\": \"true\", \n",
      "    \"X-Test2\": \"true\"\n",
      "  }\n",
      "}\n",
      "\n"
     ]
    }
   ],
   "source": [
    "s = requests.Session()\n",
    "s.auth = ('user', 'pass')\n",
    "s.headers.update({'x-test': 'true'})\n",
    "\n",
    "# both 'x-test' and 'x-test2' are sent\n",
    "r = s.get('https://httpbin.org/headers', headers={'x-test2': 'true'})\n",
    "print(r.text)"
   ]
  }
 ],
 "metadata": {
  "kernelspec": {
   "display_name": "Python 3",
   "language": "python",
   "name": "python3"
  },
  "language_info": {
   "codemirror_mode": {
    "name": "ipython",
    "version": 3
   },
   "file_extension": ".py",
   "mimetype": "text/x-python",
   "name": "python",
   "nbconvert_exporter": "python",
   "pygments_lexer": "ipython3",
   "version": "3.7.4"
  }
 },
 "nbformat": 4,
 "nbformat_minor": 2
}
