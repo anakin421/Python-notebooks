{
 "cells": [
  {
   "cell_type": "markdown",
   "metadata": {},
   "source": [
    "# format() method"
   ]
  },
  {
   "cell_type": "code",
   "execution_count": 3,
   "metadata": {},
   "outputs": [
    {
     "name": "stdout",
     "output_type": "stream",
     "text": [
      "Let's replaces these curly braces with some value\n"
     ]
    }
   ],
   "source": [
    "print(\"Let's replaces these {} with some value\".format(\"curly braces\"))"
   ]
  },
  {
   "cell_type": "code",
   "execution_count": 4,
   "metadata": {},
   "outputs": [
    {
     "name": "stdout",
     "output_type": "stream",
     "text": [
      "What if I have 1 and 2 braces\n"
     ]
    }
   ],
   "source": [
    "print(\"What if I have {} and {} braces\".format(1, 2))"
   ]
  },
  {
   "cell_type": "code",
   "execution_count": 5,
   "metadata": {},
   "outputs": [
    {
     "name": "stdout",
     "output_type": "stream",
     "text": [
      "I need a variable here\n"
     ]
    }
   ],
   "source": [
    "a = \"variable\"\n",
    "print(\"I need a {} here\".format(a))"
   ]
  },
  {
   "cell_type": "code",
   "execution_count": 7,
   "metadata": {},
   "outputs": [
    {
     "name": "stdout",
     "output_type": "stream",
     "text": [
      "print first here: 1\n",
      "\n",
      "and second here: 2\n"
     ]
    }
   ],
   "source": [
    "first = 1\n",
    "second = 2\n",
    "print(\"print first here: {}\\n\\nand second here: {}\".format(first, second))"
   ]
  },
  {
   "cell_type": "code",
   "execution_count": 8,
   "metadata": {},
   "outputs": [
    {
     "name": "stdout",
     "output_type": "stream",
     "text": [
      "Positional second here: 2\n",
      "\n",
      "Positional first here: 1\n"
     ]
    }
   ],
   "source": [
    "print(\"Positional second here: {1}\\n\\nPositional first here: {0}\".format(first, second))"
   ]
  },
  {
   "cell_type": "code",
   "execution_count": 9,
   "metadata": {},
   "outputs": [
    {
     "name": "stdout",
     "output_type": "stream",
     "text": [
      "You can literally put anything here: [{'first': 1, 'second': 2}, {'first_of_second': 1, 'second_of_second': 2}]\n"
     ]
    }
   ],
   "source": [
    "a_list_of_dictionaries = [{\"first\": 1, \"second\": 2}, {\"first_of_second\": 1, \"second_of_second\": 2}]\n",
    "print(\"You can literally put anything here: {}\".format(a_list_of_dictionaries))"
   ]
  },
  {
   "cell_type": "markdown",
   "metadata": {},
   "source": [
    "## conversion flags"
   ]
  },
  {
   "cell_type": "code",
   "execution_count": 10,
   "metadata": {},
   "outputs": [
    {
     "name": "stdout",
     "output_type": "stream",
     "text": [
      "Convert it to string before you replace [1, 2, 'µ']\n",
      "Bring out the holy [1, 2, 'µ']\n",
      "More [1, 2, '\\xb5']\n",
      "For only 49.35 dollars!\n"
     ]
    }
   ],
   "source": [
    "a = [1, 2, \"µ\"]\n",
    "print(\"Convert it to string before you replace {0!s}\".format(a))        # Calls str() on the argument first\n",
    "print(\"Bring out the holy {arg!r}\".format(arg=a))                       # Calls repr() on the argument first\n",
    "print(\"More {!a}\".format(a))                                            # Calls ascii() on the argument first\n",
    "txt = \"For only {price:.2f} dollars!\"\n",
    "print(txt.format(price = 49.348972))"
   ]
  },
  {
   "cell_type": "markdown",
   "metadata": {},
   "source": [
    "## Formatting Types"
   ]
  },
  {
   "cell_type": "code",
   "execution_count": 12,
   "metadata": {},
   "outputs": [
    {
     "name": "stdout",
     "output_type": "stream",
     "text": [
      "This is left aligend              string\n"
     ]
    }
   ],
   "source": [
    "a = \"This is left {:<20} string\"\n",
    "print(a.format(\"aligend\"))"
   ]
  },
  {
   "cell_type": "code",
   "execution_count": 40,
   "metadata": {},
   "outputs": [
    {
     "name": "stdout",
     "output_type": "stream",
     "text": [
      "This is right              aligned string\n"
     ]
    }
   ],
   "source": [
    "txt = \"This is right {:>20} string\"\n",
    "print(txt.format(\"aligned\"))"
   ]
  },
  {
   "cell_type": "code",
   "execution_count": 42,
   "metadata": {},
   "outputs": [
    {
     "name": "stdout",
     "output_type": "stream",
     "text": [
      "This is center       aligned        string\n"
     ]
    }
   ],
   "source": [
    "txt = \"This is center {:^20} string\"\n",
    "print(txt.format(\"aligned\"))"
   ]
  },
  {
   "cell_type": "markdown",
   "metadata": {},
   "source": [
    "### Useful links\n",
    "\n",
    "- [DOC](https://docs.python.org/3.7/tutorial/inputoutput.html#fancier-output-formatting)\n",
    "- [w3](https://www.w3schools.com/python/ref_string_format.asp)"
   ]
  },
  {
   "cell_type": "markdown",
   "metadata": {},
   "source": [
    "# String Interpolation / f-Strings (Python 3.6+)"
   ]
  },
  {
   "cell_type": "code",
   "execution_count": 13,
   "metadata": {},
   "outputs": [
    {
     "name": "stdout",
     "output_type": "stream",
     "text": [
      "Hello, python!\n"
     ]
    }
   ],
   "source": [
    "name = \"python\"\n",
    "print(f'Hello, {name}!')"
   ]
  },
  {
   "cell_type": "code",
   "execution_count": 18,
   "metadata": {},
   "outputs": [
    {
     "name": "stdout",
     "output_type": "stream",
     "text": [
      "10 ** 3 = 1000\n"
     ]
    }
   ],
   "source": [
    "a = 10\n",
    "b = 3\n",
    "print(f\"10 ** 3 = {a**b}\")"
   ]
  },
  {
   "cell_type": "markdown",
   "metadata": {},
   "source": [
    "- Above strings get transformed into the following\n",
    "1. **\"hello\" + name + \"!\"**\n",
    "2. **\"10 \\*\\* 3 = \" a \\*\\* b**"
   ]
  },
  {
   "cell_type": "markdown",
   "metadata": {},
   "source": [
    "# Template Strings\n",
    "\n",
    "- It’s a simpler and less powerful mechanism"
   ]
  },
  {
   "cell_type": "code",
   "execution_count": 19,
   "metadata": {},
   "outputs": [
    {
     "name": "stdout",
     "output_type": "stream",
     "text": [
      "We can put {'__name__': '__main__', '__doc__': 'Automatically created module for IPython interactive environment', '__package__': None, '__loader__': None, '__spec__': None, '__builtin__': <module 'builtins' (built-in)>, '__builtins__': <module 'builtins' (built-in)>, '_ih': ['', 'a = 256\\nb = 256\\na is b', 'a = 257\\nb = 257\\na is b', 'print(\"Let\\'s replaces these {} with some value\".format(\"curly braces\"))', 'print(\"What if I have {} and {} braces\".format(1, 2))', 'a = \"variable\"\\nprint(\"I need a {} here\".format(a))', 'print(\"Positional second here: {1}\\\\n\\\\nPositional first here: {0}\".format(first, second))', 'first = 1\\nsecond = 2\\nprint(\"print first here: {}\\\\n\\\\nand second here: {}\".format(first, second))', 'print(\"Positional second here: {1}\\\\n\\\\nPositional first here: {0}\".format(first, second))', 'a_list_of_dictionaries = [{\"first\": 1, \"second\": 2}, {\"first_of_second\": 1, \"second_of_second\": 2}]\\nprint(\"You can literally put anything here: {}\".format(a_list_of_dictionaries))', 'a = [1, 2, \"µ\"]\\nprint(\"Convert it to string before you replace {0!s}\".format(a))        # Calls str() on the argument first\\nprint(\"Bring out the holy {arg!r}\".format(arg=a))                       # Calls repr() on the argument first\\nprint(\"More {!a}\".format(a))                                            # Calls ascii() on the argument first\\ntxt = \"For only {price:.2f} dollars!\"\\nprint(txt.format(price = 49.348972))', 'a = \"This is left {:<5} string\"\\nprint(a.format(\"aligend\"))', 'a = \"This is left {:<20} string\"\\nprint(a.format(\"aligend\"))', 'name = \"python\"\\nprint(f\\'Hello, {name}!\\')', 'a = 10\\nb = 3\\nprint(f\"10 ** 3 = {a**b}\")', 'from string import Template\\n\\na = \"variables\"\\nb = \"dollar\"\\n\\nmy_string = Template(\"We can put $a with $b prefix and use them later, creating a template\")\\nprint(my_string.substitute(a=a, b=b))', 'a = 10\\nb = 3\\nc = locals()\\nprint(f\"10 ** 3 = {locals()}\")', 'a = 10\\nb = 3\\nc = locals()\\na_secret_key = \"asdfasdfasddfasdsf\"\\nprint(f\"10 ** 3 = {locals()}\")', 'a = 10\\nb = 3\\nprint(f\"10 ** 3 = {a**b}\")', 'from string import Template\\n\\na = locals()\\nb = \"dollar\"\\n\\nmy_string = Template(\"We can put $a with $b prefix and use them later, creating a template\")\\nprint(my_string.substitute(a=a, b=b))'], '_oh': {1: True, 2: False}, '_dh': ['/home/pritesh/Dropbox/Python training/Notebooks'], 'In': ['', 'a = 256\\nb = 256\\na is b', 'a = 257\\nb = 257\\na is b', 'print(\"Let\\'s replaces these {} with some value\".format(\"curly braces\"))', 'print(\"What if I have {} and {} braces\".format(1, 2))', 'a = \"variable\"\\nprint(\"I need a {} here\".format(a))', 'print(\"Positional second here: {1}\\\\n\\\\nPositional first here: {0}\".format(first, second))', 'first = 1\\nsecond = 2\\nprint(\"print first here: {}\\\\n\\\\nand second here: {}\".format(first, second))', 'print(\"Positional second here: {1}\\\\n\\\\nPositional first here: {0}\".format(first, second))', 'a_list_of_dictionaries = [{\"first\": 1, \"second\": 2}, {\"first_of_second\": 1, \"second_of_second\": 2}]\\nprint(\"You can literally put anything here: {}\".format(a_list_of_dictionaries))', 'a = [1, 2, \"µ\"]\\nprint(\"Convert it to string before you replace {0!s}\".format(a))        # Calls str() on the argument first\\nprint(\"Bring out the holy {arg!r}\".format(arg=a))                       # Calls repr() on the argument first\\nprint(\"More {!a}\".format(a))                                            # Calls ascii() on the argument first\\ntxt = \"For only {price:.2f} dollars!\"\\nprint(txt.format(price = 49.348972))', 'a = \"This is left {:<5} string\"\\nprint(a.format(\"aligend\"))', 'a = \"This is left {:<20} string\"\\nprint(a.format(\"aligend\"))', 'name = \"python\"\\nprint(f\\'Hello, {name}!\\')', 'a = 10\\nb = 3\\nprint(f\"10 ** 3 = {a**b}\")', 'from string import Template\\n\\na = \"variables\"\\nb = \"dollar\"\\n\\nmy_string = Template(\"We can put $a with $b prefix and use them later, creating a template\")\\nprint(my_string.substitute(a=a, b=b))', 'a = 10\\nb = 3\\nc = locals()\\nprint(f\"10 ** 3 = {locals()}\")', 'a = 10\\nb = 3\\nc = locals()\\na_secret_key = \"asdfasdfasddfasdsf\"\\nprint(f\"10 ** 3 = {locals()}\")', 'a = 10\\nb = 3\\nprint(f\"10 ** 3 = {a**b}\")', 'from string import Template\\n\\na = locals()\\nb = \"dollar\"\\n\\nmy_string = Template(\"We can put $a with $b prefix and use them later, creating a template\")\\nprint(my_string.substitute(a=a, b=b))'], 'Out': {1: True, 2: False}, 'get_ipython': <bound method InteractiveShell.get_ipython of <ipykernel.zmqshell.ZMQInteractiveShell object at 0x7f3744b7b050>>, 'exit': <IPython.core.autocall.ZMQExitAutocall object at 0x7f3744ba2590>, 'quit': <IPython.core.autocall.ZMQExitAutocall object at 0x7f3744ba2590>, '_': False, '__': True, '___': '', 'json': <module 'json' from '/home/pritesh/anaconda3/lib/python3.7/json/__init__.py'>, 'yapf_reformat': <function yapf_reformat at 0x7f37404c6560>, 'lib2to3': <module 'lib2to3' from '/home/pritesh/anaconda3/lib/python3.7/lib2to3/__init__.py'>, '_2to3_refactoring_tool': <lib2to3.refactor.RefactoringTool object at 0x7f37462f0a90>, '_2to3_refactor_cell': <function _2to3_refactor_cell at 0x7f37412247a0>, '_i': 'a = 10\\nb = 3\\nprint(f\"10 ** 3 = {a**b}\")', '_ii': 'a = 10\\nb = 3\\nc = locals()\\na_secret_key = \"asdfasdfasddfasdsf\"\\nprint(f\"10 ** 3 = {locals()}\")', '_iii': 'a = 10\\nb = 3\\nc = locals()\\nprint(f\"10 ** 3 = {locals()}\")', '_i1': 'a = 256\\nb = 256\\na is b', 'a': {...}, 'b': 'dollar', '_1': True, '_i2': 'a = 257\\nb = 257\\na is b', '_2': False, '_i3': 'print(\"Let\\'s replaces these {} with some value\".format(\"curly braces\"))', '_i4': 'print(\"What if I have {} and {} braces\".format(1, 2))', '_i5': 'a = \"variable\"\\nprint(\"I need a {} here\".format(a))', '_i6': 'print(\"Positional second here: {1}\\\\n\\\\nPositional first here: {0}\".format(first, second))', '_i7': 'first = 1\\nsecond = 2\\nprint(\"print first here: {}\\\\n\\\\nand second here: {}\".format(first, second))', 'first': 1, 'second': 2, '_i8': 'print(\"Positional second here: {1}\\\\n\\\\nPositional first here: {0}\".format(first, second))', '_i9': 'a_list_of_dictionaries = [{\"first\": 1, \"second\": 2}, {\"first_of_second\": 1, \"second_of_second\": 2}]\\nprint(\"You can literally put anything here: {}\".format(a_list_of_dictionaries))', 'a_list_of_dictionaries': [{'first': 1, 'second': 2}, {'first_of_second': 1, 'second_of_second': 2}], '_i10': 'a = [1, 2, \"µ\"]\\nprint(\"Convert it to string before you replace {0!s}\".format(a))        # Calls str() on the argument first\\nprint(\"Bring out the holy {arg!r}\".format(arg=a))                       # Calls repr() on the argument first\\nprint(\"More {!a}\".format(a))                                            # Calls ascii() on the argument first\\ntxt = \"For only {price:.2f} dollars!\"\\nprint(txt.format(price = 49.348972))', 'txt': 'For only {price:.2f} dollars!', '_i11': 'a = \"This is left {:<5} string\"\\nprint(a.format(\"aligend\"))', '_i12': 'a = \"This is left {:<20} string\"\\nprint(a.format(\"aligend\"))', '_i13': 'name = \"python\"\\nprint(f\\'Hello, {name}!\\')', 'name': 'python', '_i14': 'a = 10\\nb = 3\\nprint(f\"10 ** 3 = {a**b}\")', '_i15': 'from string import Template\\n\\na = \"variables\"\\nb = \"dollar\"\\n\\nmy_string = Template(\"We can put $a with $b prefix and use them later, creating a template\")\\nprint(my_string.substitute(a=a, b=b))', 'Template': <class 'string.Template'>, 'my_string': <string.Template object at 0x7f37405b90d0>, '_i16': 'a = 10\\nb = 3\\nc = locals()\\nprint(f\"10 ** 3 = {locals()}\")', 'c': {...}, '_i17': 'a = 10\\nb = 3\\nc = locals()\\na_secret_key = \"asdfasdfasddfasdsf\"\\nprint(f\"10 ** 3 = {locals()}\")', 'a_secret_key': 'asdfasdfasddfasdsf', '_i18': 'a = 10\\nb = 3\\nprint(f\"10 ** 3 = {a**b}\")', '_i19': 'from string import Template\\n\\na = locals()\\nb = \"dollar\"\\n\\nmy_string = Template(\"We can put $a with $b prefix and use them later, creating a template\")\\nprint(my_string.substitute(a=a, b=b))'} with dollar prefix and use them later, creating a template\n"
     ]
    }
   ],
   "source": [
    "from string import Template\n",
    "\n",
    "a = locals()\n",
    "b = \"dollar\"\n",
    "\n",
    "my_string = Template(\"We can put $a with $b prefix and use them later, creating a template\")\n",
    "print(my_string.substitute(a=a, b=b))"
   ]
  },
  {
   "cell_type": "markdown",
   "metadata": {},
   "source": [
    "# What to use and when?"
   ]
  },
  {
   "cell_type": "markdown",
   "metadata": {},
   "source": [
    "![title](images/string_format.png)"
   ]
  }
 ],
 "metadata": {
  "kernelspec": {
   "display_name": "Python 3",
   "language": "python",
   "name": "python3"
  },
  "language_info": {
   "codemirror_mode": {
    "name": "ipython",
    "version": 3
   },
   "file_extension": ".py",
   "mimetype": "text/x-python",
   "name": "python",
   "nbconvert_exporter": "python",
   "pygments_lexer": "ipython3",
   "version": "3.7.4"
  },
  "toc": {
   "base_numbering": 1,
   "nav_menu": {},
   "number_sections": true,
   "sideBar": true,
   "skip_h1_title": false,
   "title_cell": "Table of Contents",
   "title_sidebar": "Contents",
   "toc_cell": false,
   "toc_position": {},
   "toc_section_display": true,
   "toc_window_display": false
  }
 },
 "nbformat": 4,
 "nbformat_minor": 2
}
