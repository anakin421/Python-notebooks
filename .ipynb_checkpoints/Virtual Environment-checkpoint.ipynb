{
 "cells": [
  {
   "cell_type": "markdown",
   "metadata": {},
   "source": [
    "# Virtual Environment"
   ]
  },
  {
   "cell_type": "markdown",
   "metadata": {},
   "source": [
    "# What is Virtual Environment?"
   ]
  },
  {
   "cell_type": "markdown",
   "metadata": {},
   "source": [
    "A virtual environment is a tool that helps to keep dependencies required by different projects separate by creating isolated python virtual environments for them. This is one of the most important tools that most of the Python developers use."
   ]
  },
  {
   "cell_type": "markdown",
   "metadata": {},
   "source": [
    "## Why do we need a virtual Environment?"
   ]
  },
  {
   "cell_type": "markdown",
   "metadata": {},
   "source": [
    " - Python applications will often use packages and modules that don’t come as part of the standard library.\n",
    " - This means it may not be possible for one Python installation to meet the requirements of every application.\n",
    " - __for Example:__\n",
    "     - A needs version 1.0 of a particular module but application B needs version 2.0, then the requirements are in conflict and installing either version 1.0 or 2.0 will leave one application unable to run.\n",
    " - __What's Solution Then:__\n",
    "     - The solution for this problem is to create a virtual environment, a self-contained directory tree that contains a Python installation for a particular version of Python, plus a number of additional packages.\n",
    "     \n",
    " - Different applications can then use different virtual environments. To resolve the earlier example of conflicting requirements, application A can have its own virtual environment with version 1.0 installed while application B has another virtual environment with version 2.0. If application B requires a library be upgraded to version 3.0, this will not affect application A’s environment.\n",
    " \n",
    " - __Virtual Environment should be used whenever you work on any Python based project. It is generally good to have one new virtual environment for every Python based project you work on. So the dependencies of every project are isolated from the system and each other.__"
   ]
  },
  {
   "cell_type": "markdown",
   "metadata": {},
   "source": [
    "# Creating Virtual Environments"
   ]
  },
  {
   "cell_type": "markdown",
   "metadata": {},
   "source": [
    "- To create a virtual environment first we have to install package called __virtualenv__.\n",
    "   - To install __virtualenv__ open terminal and type __pip install virtualenv__\n",
    "   - you can test your virtual environment installation __virtualenv --version__\n",
    "- Now after installing __virtualenv__ we are ready to create our first virtual environment.\n",
    "- To __create__ virtual environment type __virtualenv demo_env__ (Note: you can chooose any name for your virtual environment. Here is choose __demo_env__)\n",
    "    - If you want to specify Python interpreter of your choice, for example Python 3, it can be done using the following command:\n",
    "        - __virtualenv -p /usr/bin/python3 virtualenv_name__\n",
    "    - To create a Python 2.7 virtual environment, use the following command:\n",
    "        - __virtualenv -p /usr/bin/python2.7 virtualenv_name__\n",
    "\n",
    "- After creating virtual environment you have to __activate__ it.\n",
    "- To __activate__ virtual environment type __source demo_env/bin/activate__\n",
    "- Now __demo_env__ is activated successfully.\n",
    "- To __deactivate__ the virtual environment type __deactivate__"
   ]
  }
 ],
 "metadata": {
  "kernelspec": {
   "display_name": "Python 3",
   "language": "python",
   "name": "python3"
  },
  "language_info": {
   "codemirror_mode": {
    "name": "ipython",
    "version": 3
   },
   "file_extension": ".py",
   "mimetype": "text/x-python",
   "name": "python",
   "nbconvert_exporter": "python",
   "pygments_lexer": "ipython3",
   "version": "3.7.4"
  }
 },
 "nbformat": 4,
 "nbformat_minor": 2
}
