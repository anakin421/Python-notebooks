{
 "cells": [
  {
   "cell_type": "markdown",
   "metadata": {},
   "source": [
    "# Virtual Environments"
   ]
  },
  {
   "cell_type": "markdown",
   "metadata": {},
   "source": [
    "## What is virtual environment and why we need it?"
   ]
  },
  {
   "cell_type": "markdown",
   "metadata": {},
   "source": [
    " - Python applications will often use packages and modules that don’t come as part of the standard library.\n",
    " - This means it may not be possible for one Python installation to meet the requirements of every application. \n",
    " - __for example:__\n",
    "     - If application A needs version 1.0 of a particular module but application B needs version 2.0, then the requirements are in conflict and installing either version 1.0 or 2.0 will leave one application unable to run.\n",
    " - __The solution__ for this problem is to create a virtual environment, a self-contained directory tree that contains a Python installation for a particular version of Python, plus a number of additional packages.\n",
    "\n",
    " - Different applications can then use different virtual environments. __For instance now__, application A can have its own virtual environment with version 1.0 installed while application B has another virtual environment with version 2.0. If application B requires a library be upgraded to version 3.0, this will not affect application A’s environment."
   ]
  },
  {
   "cell_type": "markdown",
   "metadata": {},
   "source": [
    "# Creating Virtual Environments"
   ]
  },
  {
   "cell_type": "markdown",
   "metadata": {},
   "source": [
    "- To create a virtual environment first we have to install package called __virtualenv__.\n",
    "   - To install __virtualenv__ open terminal and type __pip install virtualenv__\n",
    "- Now after installing __virtualenv__ we are ready to create our first virtual envirnment.\n",
    "- To __create__ virtual environment type __virtualenv demo_env__ (Note: you can chooose any name for your virtual environment. Here is choose __demo_env__)\n",
    "- After creating virtual environment you have to __activate__ it.\n",
    "- To __activate__ virtual environment type __source demo_env/bin/activate__\n",
    "- Now __demo_env__ is activated successfully.\n",
    "- To __deactivate__ the virtual environment type __deactivate demo_env__"
   ]
  },
  {
   "cell_type": "markdown",
   "metadata": {},
   "source": [
    "# Managing packages in Virtual Environment"
   ]
  },
  {
   "cell_type": "markdown",
   "metadata": {},
   "source": [
    "- After activated virtual environment successfully you have to manage packages.\n",
    "- Type __pip list__ and you see that there is only few packages are installed.\n",
    "- Now install packages that will require in your project.\n",
    "- You can install python packages using __pip install__ command.\n",
    "    - For example: __pip install sqlite3__\n",
    "    - This will install the latest version on __sqlite3__.\n",
    "- Now suppose you have to install specific version of package for your virtual environment then you have to provide version number too.\n",
    "    - For example: __pip install numpy==1.9.1__\n",
    "    - This will install the __numpy__ package of having __1.9.1__ version. \n",
    "- Command __pip install --upgrade numpy__ will upgrade the __numpy__ to the latest version.\n",
    "- To uninstall package you have to write __pip uninstall numpy__. This command will remove __numpy__ package from your current activated environment.\n",
    "    "
   ]
  },
  {
   "cell_type": "markdown",
   "metadata": {},
   "source": [
    "# Delete Virtual Environment"
   ]
  },
  {
   "cell_type": "markdown",
   "metadata": {},
   "source": [
    "- To remove any virtual environment use __rm -rf demo_env/__ command."
   ]
  },
  {
   "cell_type": "markdown",
   "metadata": {},
   "source": [
    "#### You should create different environments for different projects. So that the versions of the packages may not conflict."
   ]
  },
  {
   "cell_type": "markdown",
   "metadata": {},
   "source": [
    "# What is PyPI?"
   ]
  },
  {
   "cell_type": "markdown",
   "metadata": {},
   "source": [
    "- The __Python Package Index (PyPI)__ is a repository of software for the Python programming language.\n",
    "- PyPI helps to find and install software developed and shared by the Python community. \n",
    "- __https://pypi.org/__ is the official web site."
   ]
  }
 ],
 "metadata": {
  "kernelspec": {
   "display_name": "Python 3",
   "language": "python",
   "name": "python3"
  },
  "language_info": {
   "codemirror_mode": {
    "name": "ipython",
    "version": 3
   },
   "file_extension": ".py",
   "mimetype": "text/x-python",
   "name": "python",
   "nbconvert_exporter": "python",
   "pygments_lexer": "ipython3",
   "version": "3.7.4"
  }
 },
 "nbformat": 4,
 "nbformat_minor": 2
}
